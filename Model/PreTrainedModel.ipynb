{
 "cells": [
  {
   "cell_type": "code",
   "execution_count": 4,
   "metadata": {},
   "outputs": [],
   "source": [
    "import tensorflow as tf\n",
    "from tensorflow.keras.models import Sequential\n",
    "from tensorflow.keras.layers import Dense, Dropout\n",
    "from tensorflow.keras.optimizers import Adam\n",
    "from tensorflow.keras.applications import MobileNetV2\n",
    "from tensorflow.keras.applications.mobilenet_v2 import preprocess_input\n",
    "from tensorflow.keras.preprocessing.image import ImageDataGenerator\n",
    "import numpy as np\n",
    "import os\n",
    "import matplotlib.pyplot as plt"
   ]
  },
  {
   "cell_type": "code",
   "execution_count": 5,
   "metadata": {},
   "outputs": [],
   "source": [
    "# Step 1: Load Dataset\n",
    "# Assumes dataset has two folders: \"Drowsy\" and \"NonDrowsy\"\n",
    "data_dir = \"./dataset\""
   ]
  },
  {
   "cell_type": "code",
   "execution_count": 6,
   "metadata": {},
   "outputs": [
    {
     "name": "stdout",
     "output_type": "stream",
     "text": [
      "Found 33435 images belonging to 2 classes.\n",
      "Found 8358 images belonging to 2 classes.\n"
     ]
    }
   ],
   "source": [
    "image_size = (224, 224)\n",
    "# Use ImageDataGenerator for memory-efficient data loading\n",
    "train_datagen = ImageDataGenerator(\n",
    "    rescale=1./255,\n",
    "    validation_split=0.2,  # Split for training and validation\n",
    "    preprocessing_function=preprocess_input\n",
    ")\n",
    "\n",
    "train_generator = train_datagen.flow_from_directory(\n",
    "    data_dir,\n",
    "    target_size=image_size,\n",
    "    batch_size=32,\n",
    "    class_mode='sparse',\n",
    "    subset='training'\n",
    ")\n",
    "\n",
    "validation_generator = train_datagen.flow_from_directory(\n",
    "    data_dir,\n",
    "    target_size=image_size,\n",
    "    batch_size=32,\n",
    "    class_mode='sparse',\n",
    "    subset='validation'\n",
    ")"
   ]
  },
  {
   "cell_type": "code",
   "execution_count": 7,
   "metadata": {},
   "outputs": [
    {
     "name": "stderr",
     "output_type": "stream",
     "text": [
      "I0000 00:00:1733595111.443127    1812 gpu_device.cc:2022] Created device /job:localhost/replica:0/task:0/device:GPU:0 with 6717 MB memory:  -> device: 0, name: NVIDIA GeForce GTX 1070, pci bus id: 0000:01:00.0, compute capability: 6.1\n"
     ]
    },
    {
     "name": "stdout",
     "output_type": "stream",
     "text": [
      "Downloading data from https://storage.googleapis.com/tensorflow/keras-applications/mobilenet_v2/mobilenet_v2_weights_tf_dim_ordering_tf_kernels_1.0_224_no_top.h5\n",
      "\u001b[1m9406464/9406464\u001b[0m \u001b[32m━━━━━━━━━━━━━━━━━━━━\u001b[0m\u001b[37m\u001b[0m \u001b[1m0s\u001b[0m 0us/step\n"
     ]
    }
   ],
   "source": [
    "# Step 2: Build Model\n",
    "base_model = MobileNetV2(input_shape=(224, 224, 3), include_top=False, weights='imagenet')\n",
    "base_model.trainable = False\n",
    "\n",
    "model = Sequential([\n",
    "    base_model,\n",
    "    tf.keras.layers.GlobalAveragePooling2D(),\n",
    "    Dense(128, activation='relu'),\n",
    "    Dropout(0.5),\n",
    "    Dense(2, activation='softmax')\n",
    "])\n",
    "\n",
    "model.compile(optimizer=Adam(learning_rate=0.001),\n",
    "              loss='sparse_categorical_crossentropy',\n",
    "              metrics=['accuracy'])"
   ]
  },
  {
   "cell_type": "code",
   "execution_count": 8,
   "metadata": {},
   "outputs": [
    {
     "name": "stderr",
     "output_type": "stream",
     "text": [
      "/home/tyson/development/miniconda3/envs/tf/lib/python3.9/site-packages/keras/src/trainers/data_adapters/py_dataset_adapter.py:121: UserWarning: Your `PyDataset` class should call `super().__init__(**kwargs)` in its constructor. `**kwargs` can include `workers`, `use_multiprocessing`, `max_queue_size`. Do not pass these arguments to `fit()`, as they will be ignored.\n",
      "  self._warn_if_super_not_called()\n"
     ]
    },
    {
     "name": "stdout",
     "output_type": "stream",
     "text": [
      "Epoch 1/10\n"
     ]
    },
    {
     "name": "stderr",
     "output_type": "stream",
     "text": [
      "WARNING: All log messages before absl::InitializeLog() is called are written to STDERR\n",
      "I0000 00:00:1733595119.986014    2306 service.cc:148] XLA service 0x7f96400415f0 initialized for platform CUDA (this does not guarantee that XLA will be used). Devices:\n",
      "I0000 00:00:1733595119.986363    2306 service.cc:156]   StreamExecutor device (0): NVIDIA GeForce GTX 1070, Compute Capability 6.1\n",
      "2024-12-08 01:12:00.123333: I tensorflow/compiler/mlir/tensorflow/utils/dump_mlir_util.cc:268] disabling MLIR crash reproducer, set env var `MLIR_CRASH_REPRODUCER_DIRECTORY` to enable.\n",
      "I0000 00:00:1733595120.876471    2306 cuda_dnn.cc:529] Loaded cuDNN version 90300\n"
     ]
    },
    {
     "name": "stdout",
     "output_type": "stream",
     "text": [
      "\u001b[1m   1/1045\u001b[0m \u001b[37m━━━━━━━━━━━━━━━━━━━━\u001b[0m \u001b[1m3:16:10\u001b[0m 11s/step - accuracy: 0.6250 - loss: 0.8687"
     ]
    },
    {
     "name": "stderr",
     "output_type": "stream",
     "text": [
      "I0000 00:00:1733595126.613189    2306 device_compiler.h:188] Compiled cluster using XLA!  This line is logged at most once for the lifetime of the process.\n"
     ]
    },
    {
     "name": "stdout",
     "output_type": "stream",
     "text": [
      "\u001b[1m1045/1045\u001b[0m \u001b[32m━━━━━━━━━━━━━━━━━━━━\u001b[0m\u001b[37m\u001b[0m \u001b[1m166s\u001b[0m 148ms/step - accuracy: 0.5280 - loss: 0.7036 - val_accuracy: 0.5347 - val_loss: 0.6907\n",
      "Epoch 2/10\n",
      "\u001b[1m1045/1045\u001b[0m \u001b[32m━━━━━━━━━━━━━━━━━━━━\u001b[0m\u001b[37m\u001b[0m \u001b[1m127s\u001b[0m 121ms/step - accuracy: 0.5385 - loss: 0.6903 - val_accuracy: 0.5347 - val_loss: 0.6908\n",
      "Epoch 3/10\n",
      "\u001b[1m1045/1045\u001b[0m \u001b[32m━━━━━━━━━━━━━━━━━━━━\u001b[0m\u001b[37m\u001b[0m \u001b[1m129s\u001b[0m 123ms/step - accuracy: 0.5356 - loss: 0.6907 - val_accuracy: 0.5347 - val_loss: 0.6908\n",
      "Epoch 4/10\n",
      "\u001b[1m1045/1045\u001b[0m \u001b[32m━━━━━━━━━━━━━━━━━━━━\u001b[0m\u001b[37m\u001b[0m \u001b[1m121s\u001b[0m 115ms/step - accuracy: 0.5337 - loss: 0.6910 - val_accuracy: 0.5347 - val_loss: 0.6907\n",
      "Epoch 5/10\n",
      "\u001b[1m1045/1045\u001b[0m \u001b[32m━━━━━━━━━━━━━━━━━━━━\u001b[0m\u001b[37m\u001b[0m \u001b[1m123s\u001b[0m 118ms/step - accuracy: 0.5355 - loss: 0.6907 - val_accuracy: 0.5347 - val_loss: 0.6907\n",
      "Epoch 6/10\n",
      "\u001b[1m1045/1045\u001b[0m \u001b[32m━━━━━━━━━━━━━━━━━━━━\u001b[0m\u001b[37m\u001b[0m \u001b[1m119s\u001b[0m 114ms/step - accuracy: 0.5368 - loss: 0.6905 - val_accuracy: 0.5347 - val_loss: 0.6908\n",
      "Epoch 7/10\n",
      "\u001b[1m1045/1045\u001b[0m \u001b[32m━━━━━━━━━━━━━━━━━━━━\u001b[0m\u001b[37m\u001b[0m \u001b[1m115s\u001b[0m 110ms/step - accuracy: 0.5387 - loss: 0.6902 - val_accuracy: 0.5347 - val_loss: 0.6907\n",
      "Epoch 8/10\n",
      "\u001b[1m1045/1045\u001b[0m \u001b[32m━━━━━━━━━━━━━━━━━━━━\u001b[0m\u001b[37m\u001b[0m \u001b[1m115s\u001b[0m 110ms/step - accuracy: 0.5324 - loss: 0.6911 - val_accuracy: 0.5347 - val_loss: 0.6907\n",
      "Epoch 9/10\n",
      "\u001b[1m1045/1045\u001b[0m \u001b[32m━━━━━━━━━━━━━━━━━━━━\u001b[0m\u001b[37m\u001b[0m \u001b[1m123s\u001b[0m 118ms/step - accuracy: 0.5348 - loss: 0.6908 - val_accuracy: 0.5347 - val_loss: 0.6907\n",
      "Epoch 10/10\n",
      "\u001b[1m1045/1045\u001b[0m \u001b[32m━━━━━━━━━━━━━━━━━━━━\u001b[0m\u001b[37m\u001b[0m \u001b[1m142s\u001b[0m 118ms/step - accuracy: 0.5366 - loss: 0.6906 - val_accuracy: 0.5347 - val_loss: 0.6907\n"
     ]
    }
   ],
   "source": [
    "# Step 3: Train Model\n",
    "history = model.fit(\n",
    "    train_generator,\n",
    "    validation_data=validation_generator,\n",
    "    epochs=10\n",
    ")"
   ]
  },
  {
   "cell_type": "code",
   "execution_count": 9,
   "metadata": {},
   "outputs": [
    {
     "name": "stdout",
     "output_type": "stream",
     "text": [
      "\u001b[1m262/262\u001b[0m \u001b[32m━━━━━━━━━━━━━━━━━━━━\u001b[0m\u001b[37m\u001b[0m \u001b[1m24s\u001b[0m 90ms/step - accuracy: 0.5336 - loss: 0.6909\n",
      "Training Accuracy: 0.53\n",
      "Training Loss: 0.69\n",
      "Validation Accuracy: 0.53\n",
      "Validation Loss: 0.69\n",
      "Test Accuracy: 0.53\n",
      "Test Loss: 0.69\n"
     ]
    }
   ],
   "source": [
    "# Step 4: Evaluate Model\n",
    "eval_loss, eval_acc = model.evaluate(validation_generator)\n",
    "\n",
    "# Print Training and Validation Metrics\n",
    "train_acc = history.history['accuracy']\n",
    "train_loss = history.history['loss']\n",
    "val_acc = history.history['val_accuracy']\n",
    "val_loss = history.history['val_loss']\n",
    "\n",
    "print(f\"Training Accuracy: {train_acc[-1]:.2f}\")\n",
    "print(f\"Training Loss: {train_loss[-1]:.2f}\")\n",
    "print(f\"Validation Accuracy: {val_acc[-1]:.2f}\")\n",
    "print(f\"Validation Loss: {val_loss[-1]:.2f}\")\n",
    "print(f\"Test Accuracy: {eval_acc:.2f}\")\n",
    "print(f\"Test Loss: {eval_loss:.2f}\")\n"
   ]
  },
  {
   "cell_type": "code",
   "execution_count": 10,
   "metadata": {},
   "outputs": [
    {
     "data": {
      "text/plain": [
       "<Figure size 1200x600 with 0 Axes>"
      ]
     },
     "execution_count": 10,
     "metadata": {},
     "output_type": "execute_result"
    },
    {
     "data": {
      "text/plain": [
       "<Figure size 1200x600 with 0 Axes>"
      ]
     },
     "metadata": {},
     "output_type": "display_data"
    }
   ],
   "source": [
    "# Plot Training Performance\n",
    "plt.figure(figsize=(12, 6))"
   ]
  },
  {
   "cell_type": "code",
   "execution_count": 11,
   "metadata": {},
   "outputs": [
    {
     "data": {
      "text/plain": [
       "<matplotlib.legend.Legend at 0x7f96d5bf5a60>"
      ]
     },
     "execution_count": 11,
     "metadata": {},
     "output_type": "execute_result"
    },
    {
     "data": {
      "image/png": "[encoded data removed]",
      "text/plain": [
       "<Figure size 640x480 with 1 Axes>"
      ]
     },
     "metadata": {},
     "output_type": "display_data"
    }
   ],
   "source": [
    "# Plot Accuracy\n",
    "plt.subplot(1, 2, 1)\n",
    "plt.plot(history.history['accuracy'], label='Training Accuracy')\n",
    "plt.plot(history.history['val_accuracy'], label='Validation Accuracy')\n",
    "plt.title('Training and Validation Accuracy')\n",
    "plt.xlabel('Epochs')\n",
    "plt.ylabel('Accuracy')\n",
    "plt.legend()"
   ]
  },
  {
   "cell_type": "code",
   "execution_count": 12,
   "metadata": {},
   "outputs": [
    {
     "data": {
      "image/png": "[encoded data removed]",
      "text/plain": [
       "<Figure size 640x480 with 1 Axes>"
      ]
     },
     "metadata": {},
     "output_type": "display_data"
    }
   ],
   "source": [
    "# Plot Loss\n",
    "plt.subplot(1, 2, 2)\n",
    "plt.plot(history.history['loss'], label='Training Loss')\n",
    "plt.plot(history.history['val_loss'], label='Validation Loss')\n",
    "plt.title('Training and Validation Loss')\n",
    "plt.xlabel('Epochs')\n",
    "plt.ylabel('Loss')\n",
    "plt.legend()\n",
    "\n",
    "plt.tight_layout()\n",
    "plt.show()"
   ]
  },
  {
   "cell_type": "code",
   "execution_count": 13,
   "metadata": {},
   "outputs": [
    {
     "name": "stdout",
     "output_type": "stream",
     "text": [
      "INFO:tensorflow:Assets written to: /tmp/tmpsiuhdd6a/assets\n"
     ]
    },
    {
     "name": "stderr",
     "output_type": "stream",
     "text": [
      "INFO:tensorflow:Assets written to: /tmp/tmpsiuhdd6a/assets\n"
     ]
    },
    {
     "name": "stdout",
     "output_type": "stream",
     "text": [
      "Saved artifact at '/tmp/tmpsiuhdd6a'. The following endpoints are available:\n",
      "\n",
      "* Endpoint 'serve'\n",
      "  args_0 (POSITIONAL_ONLY): TensorSpec(shape=(None, 224, 224, 3), dtype=tf.float32, name='keras_tensor_154')\n",
      "Output Type:\n",
      "  TensorSpec(shape=(None, 2), dtype=tf.float32, name=None)\n",
      "Captures:\n",
      "  140285806624080: TensorSpec(shape=(), dtype=tf.resource, name=None)\n",
      "  140285805799728: TensorSpec(shape=(), dtype=tf.resource, name=None)\n",
      "  140285805800784: TensorSpec(shape=(), dtype=tf.resource, name=None)\n",
      "  140285805799200: TensorSpec(shape=(), dtype=tf.resource, name=None)\n",
      "  140285805799376: TensorSpec(shape=(), dtype=tf.resource, name=None)\n",
      "  140285805791888: TensorSpec(shape=(), dtype=tf.resource, name=None)\n",
      "  140285805795280: TensorSpec(shape=(), dtype=tf.resource, name=None)\n",
      "  140285805796336: TensorSpec(shape=(), dtype=tf.resource, name=None)\n",
      "  140285805794048: TensorSpec(shape=(), dtype=tf.resource, name=None)\n",
      "  140285805795104: TensorSpec(shape=(), dtype=tf.resource, name=None)\n",
      "  140285805631792: TensorSpec(shape=(), dtype=tf.resource, name=None)\n",
      "  140285799811024: TensorSpec(shape=(), dtype=tf.resource, name=None)\n",
      "  140285799812080: TensorSpec(shape=(), dtype=tf.resource, name=None)\n",
      "  140285799809792: TensorSpec(shape=(), dtype=tf.resource, name=None)\n",
      "  140285799810848: TensorSpec(shape=(), dtype=tf.resource, name=None)\n",
      "  140285799822784: TensorSpec(shape=(), dtype=tf.resource, name=None)\n",
      "  140285799834368: TensorSpec(shape=(), dtype=tf.resource, name=None)\n",
      "  140285799835424: TensorSpec(shape=(), dtype=tf.resource, name=None)\n",
      "  140285799824896: TensorSpec(shape=(), dtype=tf.resource, name=None)\n",
      "  140285799834192: TensorSpec(shape=(), dtype=tf.resource, name=None)\n",
      "  140285799860528: TensorSpec(shape=(), dtype=tf.resource, name=None)\n",
      "  140285799868368: TensorSpec(shape=(), dtype=tf.resource, name=None)\n",
      "  140285799869424: TensorSpec(shape=(), dtype=tf.resource, name=None)\n",
      "  140285799867136: TensorSpec(shape=(), dtype=tf.resource, name=None)\n",
      "  140285799868192: TensorSpec(shape=(), dtype=tf.resource, name=None)\n",
      "  140285799881008: TensorSpec(shape=(), dtype=tf.resource, name=None)\n",
      "  140285799892944: TensorSpec(shape=(), dtype=tf.resource, name=None)\n",
      "  140285799894000: TensorSpec(shape=(), dtype=tf.resource, name=None)\n",
      "  140285799891712: TensorSpec(shape=(), dtype=tf.resource, name=None)\n",
      "  140285799892768: TensorSpec(shape=(), dtype=tf.resource, name=None)\n",
      "  140285799916992: TensorSpec(shape=(), dtype=tf.resource, name=None)\n",
      "  140285799932672: TensorSpec(shape=(), dtype=tf.resource, name=None)\n",
      "  140285799933728: TensorSpec(shape=(), dtype=tf.resource, name=None)\n",
      "  140285799919104: TensorSpec(shape=(), dtype=tf.resource, name=None)\n",
      "  140285799932496: TensorSpec(shape=(), dtype=tf.resource, name=None)\n",
      "  140285799949408: TensorSpec(shape=(), dtype=tf.resource, name=None)\n",
      "  140285799961344: TensorSpec(shape=(), dtype=tf.resource, name=None)\n",
      "  140285799962400: TensorSpec(shape=(), dtype=tf.resource, name=None)\n",
      "  140285799951872: TensorSpec(shape=(), dtype=tf.resource, name=None)\n",
      "  140285799961168: TensorSpec(shape=(), dtype=tf.resource, name=None)\n",
      "  140285799982176: TensorSpec(shape=(), dtype=tf.resource, name=None)\n",
      "  140285800002304: TensorSpec(shape=(), dtype=tf.resource, name=None)\n",
      "  140285800003360: TensorSpec(shape=(), dtype=tf.resource, name=None)\n",
      "  140285799984640: TensorSpec(shape=(), dtype=tf.resource, name=None)\n",
      "  140285800002128: TensorSpec(shape=(), dtype=tf.resource, name=None)\n",
      "  140285800011200: TensorSpec(shape=(), dtype=tf.resource, name=None)\n",
      "  140285799203584: TensorSpec(shape=(), dtype=tf.resource, name=None)\n",
      "  140285799204640: TensorSpec(shape=(), dtype=tf.resource, name=None)\n",
      "  140285800013312: TensorSpec(shape=(), dtype=tf.resource, name=None)\n",
      "  140285799203408: TensorSpec(shape=(), dtype=tf.resource, name=None)\n",
      "  140285799053792: TensorSpec(shape=(), dtype=tf.resource, name=None)\n",
      "  140285799155840: TensorSpec(shape=(), dtype=tf.resource, name=None)\n",
      "  140285799156896: TensorSpec(shape=(), dtype=tf.resource, name=None)\n",
      "  140285799154608: TensorSpec(shape=(), dtype=tf.resource, name=None)\n",
      "  140285799155664: TensorSpec(shape=(), dtype=tf.resource, name=None)\n",
      "  140285799139808: TensorSpec(shape=(), dtype=tf.resource, name=None)\n",
      "  140285799110784: TensorSpec(shape=(), dtype=tf.resource, name=None)\n",
      "  140285799111840: TensorSpec(shape=(), dtype=tf.resource, name=None)\n",
      "  140285799109552: TensorSpec(shape=(), dtype=tf.resource, name=None)\n",
      "  140285799110608: TensorSpec(shape=(), dtype=tf.resource, name=None)\n",
      "  140285799175792: TensorSpec(shape=(), dtype=tf.resource, name=None)\n",
      "  140285799130032: TensorSpec(shape=(), dtype=tf.resource, name=None)\n",
      "  140285799131088: TensorSpec(shape=(), dtype=tf.resource, name=None)\n",
      "  140285799177904: TensorSpec(shape=(), dtype=tf.resource, name=None)\n",
      "  140285799129856: TensorSpec(shape=(), dtype=tf.resource, name=None)\n",
      "  140285799171344: TensorSpec(shape=(), dtype=tf.resource, name=None)\n",
      "  140285799228336: TensorSpec(shape=(), dtype=tf.resource, name=None)\n",
      "  140285799229392: TensorSpec(shape=(), dtype=tf.resource, name=None)\n",
      "  140285799173808: TensorSpec(shape=(), dtype=tf.resource, name=None)\n",
      "  140285799228160: TensorSpec(shape=(), dtype=tf.resource, name=None)\n",
      "  140285799240976: TensorSpec(shape=(), dtype=tf.resource, name=None)\n",
      "  140285799158704: TensorSpec(shape=(), dtype=tf.resource, name=None)\n",
      "  140285799159760: TensorSpec(shape=(), dtype=tf.resource, name=None)\n",
      "  140285799243440: TensorSpec(shape=(), dtype=tf.resource, name=None)\n",
      "  140285799158528: TensorSpec(shape=(), dtype=tf.resource, name=None)\n",
      "  140285799024240: TensorSpec(shape=(), dtype=tf.resource, name=None)\n",
      "  140285799089248: TensorSpec(shape=(), dtype=tf.resource, name=None)\n",
      "  140285799090304: TensorSpec(shape=(), dtype=tf.resource, name=None)\n",
      "  140285799026528: TensorSpec(shape=(), dtype=tf.resource, name=None)\n",
      "  140285799089072: TensorSpec(shape=(), dtype=tf.resource, name=None)\n",
      "  140285799282112: TensorSpec(shape=(), dtype=tf.resource, name=None)\n",
      "  140285803226208: TensorSpec(shape=(), dtype=tf.resource, name=None)\n",
      "  140285803227264: TensorSpec(shape=(), dtype=tf.resource, name=None)\n",
      "  140285799284576: TensorSpec(shape=(), dtype=tf.resource, name=None)\n",
      "  140285803226032: TensorSpec(shape=(), dtype=tf.resource, name=None)\n",
      "  140285803234752: TensorSpec(shape=(), dtype=tf.resource, name=None)\n",
      "  140285803279456: TensorSpec(shape=(), dtype=tf.resource, name=None)\n",
      "  140285803280512: TensorSpec(shape=(), dtype=tf.resource, name=None)\n",
      "  140285803237216: TensorSpec(shape=(), dtype=tf.resource, name=None)\n",
      "  140285803279280: TensorSpec(shape=(), dtype=tf.resource, name=None)\n",
      "  140285803304736: TensorSpec(shape=(), dtype=tf.resource, name=None)\n",
      "  140285803324688: TensorSpec(shape=(), dtype=tf.resource, name=None)\n",
      "  140285803325744: TensorSpec(shape=(), dtype=tf.resource, name=None)\n",
      "  140285803323456: TensorSpec(shape=(), dtype=tf.resource, name=None)\n",
      "  140285803324512: TensorSpec(shape=(), dtype=tf.resource, name=None)\n",
      "  140285803346928: TensorSpec(shape=(), dtype=tf.resource, name=None)\n",
      "  140285803367056: TensorSpec(shape=(), dtype=tf.resource, name=None)\n",
      "  140285803380800: TensorSpec(shape=(), dtype=tf.resource, name=None)\n",
      "  140285803365824: TensorSpec(shape=(), dtype=tf.resource, name=None)\n",
      "  140285803366880: TensorSpec(shape=(), dtype=tf.resource, name=None)\n",
      "  140285803383792: TensorSpec(shape=(), dtype=tf.resource, name=None)\n",
      "  140285803420304: TensorSpec(shape=(), dtype=tf.resource, name=None)\n",
      "  140285803438144: TensorSpec(shape=(), dtype=tf.resource, name=None)\n",
      "  140285803419072: TensorSpec(shape=(), dtype=tf.resource, name=None)\n",
      "  140285803420128: TensorSpec(shape=(), dtype=tf.resource, name=None)\n",
      "  140285803440256: TensorSpec(shape=(), dtype=tf.resource, name=None)\n",
      "  140285803464128: TensorSpec(shape=(), dtype=tf.resource, name=None)\n",
      "  140285803465184: TensorSpec(shape=(), dtype=tf.resource, name=None)\n",
      "  140285803462896: TensorSpec(shape=(), dtype=tf.resource, name=None)\n",
      "  140285803463952: TensorSpec(shape=(), dtype=tf.resource, name=None)\n",
      "  140285803468576: TensorSpec(shape=(), dtype=tf.resource, name=None)\n",
      "  140286315726272: TensorSpec(shape=(), dtype=tf.resource, name=None)\n",
      "  140286315727328: TensorSpec(shape=(), dtype=tf.resource, name=None)\n",
      "  140286315725040: TensorSpec(shape=(), dtype=tf.resource, name=None)\n",
      "  140286315726096: TensorSpec(shape=(), dtype=tf.resource, name=None)\n",
      "  140286315628320: TensorSpec(shape=(), dtype=tf.resource, name=None)\n",
      "  140286315746752: TensorSpec(shape=(), dtype=tf.resource, name=None)\n",
      "  140286315747808: TensorSpec(shape=(), dtype=tf.resource, name=None)\n",
      "  140286315745520: TensorSpec(shape=(), dtype=tf.resource, name=None)\n",
      "  140286315746576: TensorSpec(shape=(), dtype=tf.resource, name=None)\n",
      "  140286315812992: TensorSpec(shape=(), dtype=tf.resource, name=None)\n",
      "  140286315574896: TensorSpec(shape=(), dtype=tf.resource, name=None)\n",
      "  140286315575952: TensorSpec(shape=(), dtype=tf.resource, name=None)\n",
      "  140286315573664: TensorSpec(shape=(), dtype=tf.resource, name=None)\n",
      "  140286315574720: TensorSpec(shape=(), dtype=tf.resource, name=None)\n",
      "  140286315661264: TensorSpec(shape=(), dtype=tf.resource, name=None)\n",
      "  140286315714160: TensorSpec(shape=(), dtype=tf.resource, name=None)\n",
      "  140286315715216: TensorSpec(shape=(), dtype=tf.resource, name=None)\n",
      "  140286315712928: TensorSpec(shape=(), dtype=tf.resource, name=None)\n",
      "  140286315713984: TensorSpec(shape=(), dtype=tf.resource, name=None)\n",
      "  140286315632592: TensorSpec(shape=(), dtype=tf.resource, name=None)\n",
      "  140286315816560: TensorSpec(shape=(), dtype=tf.resource, name=None)\n",
      "  140286315817616: TensorSpec(shape=(), dtype=tf.resource, name=None)\n",
      "  140286315815328: TensorSpec(shape=(), dtype=tf.resource, name=None)\n",
      "  140286315816384: TensorSpec(shape=(), dtype=tf.resource, name=None)\n",
      "  140286315657520: TensorSpec(shape=(), dtype=tf.resource, name=None)\n",
      "  140286315767584: TensorSpec(shape=(), dtype=tf.resource, name=None)\n",
      "  140286315768640: TensorSpec(shape=(), dtype=tf.resource, name=None)\n",
      "  140286315766352: TensorSpec(shape=(), dtype=tf.resource, name=None)\n",
      "  140286315767408: TensorSpec(shape=(), dtype=tf.resource, name=None)\n",
      "  140285797976192: TensorSpec(shape=(), dtype=tf.resource, name=None)\n",
      "  140285798004512: TensorSpec(shape=(), dtype=tf.resource, name=None)\n",
      "  140285798005568: TensorSpec(shape=(), dtype=tf.resource, name=None)\n",
      "  140285798003280: TensorSpec(shape=(), dtype=tf.resource, name=None)\n",
      "  140285798004336: TensorSpec(shape=(), dtype=tf.resource, name=None)\n",
      "  140285798029440: TensorSpec(shape=(), dtype=tf.resource, name=None)\n",
      "  140285798041376: TensorSpec(shape=(), dtype=tf.resource, name=None)\n",
      "  140285798042432: TensorSpec(shape=(), dtype=tf.resource, name=None)\n",
      "  140285798040144: TensorSpec(shape=(), dtype=tf.resource, name=None)\n",
      "  140285798041200: TensorSpec(shape=(), dtype=tf.resource, name=None)\n",
      "  140285798066656: TensorSpec(shape=(), dtype=tf.resource, name=None)\n",
      "  140285798090704: TensorSpec(shape=(), dtype=tf.resource, name=None)\n",
      "  140285798091760: TensorSpec(shape=(), dtype=tf.resource, name=None)\n",
      "  140285798089472: TensorSpec(shape=(), dtype=tf.resource, name=None)\n",
      "  140285798090528: TensorSpec(shape=(), dtype=tf.resource, name=None)\n",
      "  140285798107440: TensorSpec(shape=(), dtype=tf.resource, name=None)\n",
      "  140285798127568: TensorSpec(shape=(), dtype=tf.resource, name=None)\n",
      "  140285798128624: TensorSpec(shape=(), dtype=tf.resource, name=None)\n",
      "  140285798126336: TensorSpec(shape=(), dtype=tf.resource, name=None)\n",
      "  140285798127392: TensorSpec(shape=(), dtype=tf.resource, name=None)\n",
      "  140285798160688: TensorSpec(shape=(), dtype=tf.resource, name=None)\n",
      "  140285798180816: TensorSpec(shape=(), dtype=tf.resource, name=None)\n",
      "  140285798181872: TensorSpec(shape=(), dtype=tf.resource, name=None)\n",
      "  140285798179584: TensorSpec(shape=(), dtype=tf.resource, name=None)\n",
      "  140285798180640: TensorSpec(shape=(), dtype=tf.resource, name=None)\n",
      "  140285798204864: TensorSpec(shape=(), dtype=tf.resource, name=None)\n",
      "  140285798232832: TensorSpec(shape=(), dtype=tf.resource, name=None)\n",
      "  140285798233888: TensorSpec(shape=(), dtype=tf.resource, name=None)\n",
      "  140285798206976: TensorSpec(shape=(), dtype=tf.resource, name=None)\n",
      "  140285798232656: TensorSpec(shape=(), dtype=tf.resource, name=None)\n",
      "  140285798249568: TensorSpec(shape=(), dtype=tf.resource, name=None)\n",
      "  140285798273792: TensorSpec(shape=(), dtype=tf.resource, name=None)\n",
      "  140285798274848: TensorSpec(shape=(), dtype=tf.resource, name=None)\n",
      "  140285798252032: TensorSpec(shape=(), dtype=tf.resource, name=None)\n",
      "  140285798273616: TensorSpec(shape=(), dtype=tf.resource, name=None)\n",
      "  140285798298720: TensorSpec(shape=(), dtype=tf.resource, name=None)\n",
      "  140285798322944: TensorSpec(shape=(), dtype=tf.resource, name=None)\n",
      "  140285798324000: TensorSpec(shape=(), dtype=tf.resource, name=None)\n",
      "  140285798301184: TensorSpec(shape=(), dtype=tf.resource, name=None)\n",
      "  140285798322768: TensorSpec(shape=(), dtype=tf.resource, name=None)\n",
      "  140285798344128: TensorSpec(shape=(), dtype=tf.resource, name=None)\n",
      "  140285798364080: TensorSpec(shape=(), dtype=tf.resource, name=None)\n",
      "  140285798365136: TensorSpec(shape=(), dtype=tf.resource, name=None)\n",
      "  140285798346416: TensorSpec(shape=(), dtype=tf.resource, name=None)\n",
      "  140285798363904: TensorSpec(shape=(), dtype=tf.resource, name=None)\n",
      "  140285798384912: TensorSpec(shape=(), dtype=tf.resource, name=None)\n",
      "  140285798409136: TensorSpec(shape=(), dtype=tf.resource, name=None)\n",
      "  140285798410192: TensorSpec(shape=(), dtype=tf.resource, name=None)\n",
      "  140285798387376: TensorSpec(shape=(), dtype=tf.resource, name=None)\n",
      "  140285798408960: TensorSpec(shape=(), dtype=tf.resource, name=None)\n",
      "  140285798429968: TensorSpec(shape=(), dtype=tf.resource, name=None)\n",
      "  140285798458288: TensorSpec(shape=(), dtype=tf.resource, name=None)\n",
      "  140285798459344: TensorSpec(shape=(), dtype=tf.resource, name=None)\n",
      "  140285798432432: TensorSpec(shape=(), dtype=tf.resource, name=None)\n",
      "  140285798458112: TensorSpec(shape=(), dtype=tf.resource, name=None)\n",
      "  140285798467184: TensorSpec(shape=(), dtype=tf.resource, name=None)\n",
      "  140285798491232: TensorSpec(shape=(), dtype=tf.resource, name=None)\n",
      "  140285798492288: TensorSpec(shape=(), dtype=tf.resource, name=None)\n",
      "  140285798469472: TensorSpec(shape=(), dtype=tf.resource, name=None)\n",
      "  140285798491056: TensorSpec(shape=(), dtype=tf.resource, name=None)\n",
      "  140285797727040: TensorSpec(shape=(), dtype=tf.resource, name=None)\n",
      "  140285797755360: TensorSpec(shape=(), dtype=tf.resource, name=None)\n",
      "  140285797756416: TensorSpec(shape=(), dtype=tf.resource, name=None)\n",
      "  140285797754128: TensorSpec(shape=(), dtype=tf.resource, name=None)\n",
      "  140285797755184: TensorSpec(shape=(), dtype=tf.resource, name=None)\n",
      "  140285797768000: TensorSpec(shape=(), dtype=tf.resource, name=None)\n",
      "  140285797792224: TensorSpec(shape=(), dtype=tf.resource, name=None)\n",
      "  140285797793280: TensorSpec(shape=(), dtype=tf.resource, name=None)\n",
      "  140285797790992: TensorSpec(shape=(), dtype=tf.resource, name=None)\n",
      "  140285797792048: TensorSpec(shape=(), dtype=tf.resource, name=None)\n",
      "  140285797808080: TensorSpec(shape=(), dtype=tf.resource, name=None)\n",
      "  140285797836048: TensorSpec(shape=(), dtype=tf.resource, name=None)\n",
      "  140285797837104: TensorSpec(shape=(), dtype=tf.resource, name=None)\n",
      "  140285797834816: TensorSpec(shape=(), dtype=tf.resource, name=None)\n",
      "  140285797835872: TensorSpec(shape=(), dtype=tf.resource, name=None)\n",
      "  140285797860976: TensorSpec(shape=(), dtype=tf.resource, name=None)\n",
      "  140285797885200: TensorSpec(shape=(), dtype=tf.resource, name=None)\n",
      "  140285797886256: TensorSpec(shape=(), dtype=tf.resource, name=None)\n",
      "  140285797883968: TensorSpec(shape=(), dtype=tf.resource, name=None)\n",
      "  140285797885024: TensorSpec(shape=(), dtype=tf.resource, name=None)\n",
      "  140285797897840: TensorSpec(shape=(), dtype=tf.resource, name=None)\n",
      "  140285797926160: TensorSpec(shape=(), dtype=tf.resource, name=None)\n",
      "  140285797927216: TensorSpec(shape=(), dtype=tf.resource, name=None)\n",
      "  140285797924928: TensorSpec(shape=(), dtype=tf.resource, name=None)\n",
      "  140285797925984: TensorSpec(shape=(), dtype=tf.resource, name=None)\n",
      "  140285797939152: TensorSpec(shape=(), dtype=tf.resource, name=None)\n",
      "  140285797967296: TensorSpec(shape=(), dtype=tf.resource, name=None)\n",
      "  140285797968352: TensorSpec(shape=(), dtype=tf.resource, name=None)\n",
      "  140285797966064: TensorSpec(shape=(), dtype=tf.resource, name=None)\n",
      "  140285797967120: TensorSpec(shape=(), dtype=tf.resource, name=None)\n",
      "  140285800085280: TensorSpec(shape=(), dtype=tf.resource, name=None)\n",
      "  140285800101312: TensorSpec(shape=(), dtype=tf.resource, name=None)\n",
      "  140285800102368: TensorSpec(shape=(), dtype=tf.resource, name=None)\n",
      "  140285800100080: TensorSpec(shape=(), dtype=tf.resource, name=None)\n",
      "  140285800101136: TensorSpec(shape=(), dtype=tf.resource, name=None)\n",
      "  140285800122144: TensorSpec(shape=(), dtype=tf.resource, name=None)\n",
      "  140285800142272: TensorSpec(shape=(), dtype=tf.resource, name=None)\n",
      "  140285800143328: TensorSpec(shape=(), dtype=tf.resource, name=None)\n",
      "  140285800141040: TensorSpec(shape=(), dtype=tf.resource, name=None)\n",
      "  140285800142096: TensorSpec(shape=(), dtype=tf.resource, name=None)\n",
      "  140285800159360: TensorSpec(shape=(), dtype=tf.resource, name=None)\n",
      "  140285800191600: TensorSpec(shape=(), dtype=tf.resource, name=None)\n",
      "  140285800192656: TensorSpec(shape=(), dtype=tf.resource, name=None)\n",
      "  140285800190368: TensorSpec(shape=(), dtype=tf.resource, name=None)\n",
      "  140285800191424: TensorSpec(shape=(), dtype=tf.resource, name=None)\n",
      "  140285800208336: TensorSpec(shape=(), dtype=tf.resource, name=None)\n",
      "  140285800228464: TensorSpec(shape=(), dtype=tf.resource, name=None)\n",
      "  140285800229520: TensorSpec(shape=(), dtype=tf.resource, name=None)\n",
      "  140285800227232: TensorSpec(shape=(), dtype=tf.resource, name=None)\n",
      "  140285800228288: TensorSpec(shape=(), dtype=tf.resource, name=None)\n",
      "  140285800261584: TensorSpec(shape=(), dtype=tf.resource, name=None)\n",
      "  140285800277616: TensorSpec(shape=(), dtype=tf.resource, name=None)\n",
      "  140285800278672: TensorSpec(shape=(), dtype=tf.resource, name=None)\n",
      "  140285800276384: TensorSpec(shape=(), dtype=tf.resource, name=None)\n",
      "  140285800277440: TensorSpec(shape=(), dtype=tf.resource, name=None)\n",
      "  140285800293472: TensorSpec(shape=(), dtype=tf.resource, name=None)\n",
      "  140285800325712: TensorSpec(shape=(), dtype=tf.resource, name=None)\n",
      "  140285800326768: TensorSpec(shape=(), dtype=tf.resource, name=None)\n",
      "  140285800295760: TensorSpec(shape=(), dtype=tf.resource, name=None)\n",
      "  140285800325536: TensorSpec(shape=(), dtype=tf.resource, name=None)\n",
      "  140286373831424: TensorSpec(shape=(), dtype=tf.resource, name=None)\n",
      "  140286373831248: TensorSpec(shape=(), dtype=tf.resource, name=None)\n",
      "  140286373833360: TensorSpec(shape=(), dtype=tf.resource, name=None)\n",
      "  140286373833184: TensorSpec(shape=(), dtype=tf.resource, name=None)\n"
     ]
    },
    {
     "name": "stderr",
     "output_type": "stream",
     "text": [
      "W0000 00:00:1733596427.941219    1812 tf_tfl_flatbuffer_helpers.cc:365] Ignored output_format.\n",
      "W0000 00:00:1733596427.941282    1812 tf_tfl_flatbuffer_helpers.cc:368] Ignored drop_control_dependency.\n",
      "2024-12-08 01:33:47.941922: I tensorflow/cc/saved_model/reader.cc:83] Reading SavedModel from: /tmp/tmpsiuhdd6a\n",
      "2024-12-08 01:33:47.956467: I tensorflow/cc/saved_model/reader.cc:52] Reading meta graph with tags { serve }\n",
      "2024-12-08 01:33:47.956503: I tensorflow/cc/saved_model/reader.cc:147] Reading SavedModel debug info (if present) from: /tmp/tmpsiuhdd6a\n",
      "I0000 00:00:1733596428.077489    1812 mlir_graph_optimization_pass.cc:401] MLIR V1 optimization pass is not enabled\n",
      "2024-12-08 01:33:48.106198: I tensorflow/cc/saved_model/loader.cc:236] Restoring SavedModel bundle.\n",
      "2024-12-08 01:33:48.928700: I tensorflow/cc/saved_model/loader.cc:220] Running initialization op on SavedModel bundle at path: /tmp/tmpsiuhdd6a\n",
      "2024-12-08 01:33:49.117518: I tensorflow/cc/saved_model/loader.cc:466] SavedModel load for tags { serve }; Status: success: OK. Took 1175600 microseconds.\n"
     ]
    }
   ],
   "source": [
    "# Step 6: Convert to TensorFlow Lite\n",
    "converter = tf.lite.TFLiteConverter.from_keras_model(model)\n",
    "tflite_model = converter.convert()"
   ]
  },
  {
   "cell_type": "code",
   "execution_count": 14,
   "metadata": {},
   "outputs": [
    {
     "name": "stdout",
     "output_type": "stream",
     "text": [
      "TFLite model saved at drowsiness_detection.tflite\n"
     ]
    }
   ],
   "source": [
    "# Save the TFLite model\n",
    "tflite_model_path = \"drowsiness_detection.tflite\"\n",
    "with open(tflite_model_path, \"wb\") as f:\n",
    "    f.write(tflite_model)\n",
    "\n",
    "print(f\"TFLite model saved at {tflite_model_path}\")"
   ]
  },
  {
   "cell_type": "code",
   "execution_count": null,
   "metadata": {},
   "outputs": [],
   "source": []
  }
 ],
 "metadata": {
  "kernelspec": {
   "display_name": "tf",
   "language": "python",
   "name": "python3"
  },
  "language_info": {
   "codemirror_mode": {
    "name": "ipython",
    "version": 3
   },
   "file_extension": ".py",
   "mimetype": "text/x-python",
   "name": "python",
   "nbconvert_exporter": "python",
   "pygments_lexer": "ipython3",
   "version": "3.9.20"
  }
 },
 "nbformat": 4,
 "nbformat_minor": 2
}
